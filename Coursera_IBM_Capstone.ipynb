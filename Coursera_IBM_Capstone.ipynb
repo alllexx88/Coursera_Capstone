{
    "nbformat_minor": 1, 
    "cells": [
        {
            "source": "# The IBM Applied DS Capstone Project\n\nThis notebook will be used for walking through [IBM Data Science Professional Certificate Specialization: Applied Data Science Capstone](https://www.coursera.org/learn/applied-data-science-capstone)", 
            "cell_type": "markdown", 
            "metadata": {
                "collapsed": true
            }
        }, 
        {
            "execution_count": 1, 
            "cell_type": "code", 
            "metadata": {}, 
            "outputs": [
                {
                    "output_type": "stream", 
                    "name": "stdout", 
                    "text": "Hello Capstone Project Course!\n"
                }
            ], 
            "source": "import pandas as pd\nimport numpy as np\n\nprint('Hello Capstone Project Course!')"
        }, 
        {
            "source": "## Scrape \"List of postal codes of Canada: M\" wikipedia page for Toronto postal codes", 
            "cell_type": "markdown", 
            "metadata": {}
        }, 
        {
            "source": "Required imports", 
            "cell_type": "markdown", 
            "metadata": {}
        }, 
        {
            "execution_count": 2, 
            "cell_type": "code", 
            "metadata": {}, 
            "outputs": [], 
            "source": "from bs4 import BeautifulSoup\nimport requests"
        }, 
        {
            "source": "Fetch wiki page as a BeautifulSoup object", 
            "cell_type": "markdown", 
            "metadata": {}
        }, 
        {
            "execution_count": 3, 
            "cell_type": "code", 
            "metadata": {}, 
            "outputs": [], 
            "source": "url = 'https://en.wikipedia.org/wiki/List_of_postal_codes_of_Canada:_M'\n\nsoup = BeautifulSoup(requests.get(url).text, 'lxml')"
        }, 
        {
            "source": "Find the html table that contains the codes", 
            "cell_type": "markdown", 
            "metadata": {}
        }, 
        {
            "execution_count": 4, 
            "cell_type": "code", 
            "metadata": {}, 
            "outputs": [], 
            "source": "soup_codes_table = soup.find('table', class_='wikitable sortable')"
        }, 
        {
            "source": "Convert to pandas dataframe", 
            "cell_type": "markdown", 
            "metadata": {}
        }, 
        {
            "execution_count": 5, 
            "cell_type": "code", 
            "metadata": {}, 
            "outputs": [
                {
                    "execution_count": 5, 
                    "metadata": {}, 
                    "data": {
                        "text/html": "<div>\n<style scoped>\n    .dataframe tbody tr th:only-of-type {\n        vertical-align: middle;\n    }\n\n    .dataframe tbody tr th {\n        vertical-align: top;\n    }\n\n    .dataframe thead th {\n        text-align: right;\n    }\n</style>\n<table border=\"1\" class=\"dataframe\">\n  <thead>\n    <tr style=\"text-align: right;\">\n      <th></th>\n      <th>PostalCode</th>\n      <th>Borough</th>\n      <th>Neighborhood</th>\n    </tr>\n  </thead>\n  <tbody>\n    <tr>\n      <th>0</th>\n      <td>M1A</td>\n      <td>Not assigned</td>\n      <td>Not assigned</td>\n    </tr>\n    <tr>\n      <th>1</th>\n      <td>M2A</td>\n      <td>Not assigned</td>\n      <td>Not assigned</td>\n    </tr>\n    <tr>\n      <th>2</th>\n      <td>M3A</td>\n      <td>North York</td>\n      <td>Parkwoods</td>\n    </tr>\n    <tr>\n      <th>3</th>\n      <td>M4A</td>\n      <td>North York</td>\n      <td>Victoria Village</td>\n    </tr>\n    <tr>\n      <th>4</th>\n      <td>M5A</td>\n      <td>Downtown Toronto</td>\n      <td>Harbourfront</td>\n    </tr>\n  </tbody>\n</table>\n</div>", 
                        "text/plain": "  PostalCode           Borough      Neighborhood\n0  M1A        Not assigned      Not assigned    \n1  M2A        Not assigned      Not assigned    \n2  M3A        North York        Parkwoods       \n3  M4A        North York        Victoria Village\n4  M5A        Downtown Toronto  Harbourfront    "
                    }, 
                    "output_type": "execute_result"
                }
            ], 
            "source": "pd.set_option('display.max_colwidth', -1) # for wide columns later on\n\npostal_codes_df = pd.read_html(str(soup_codes_table), header = 0)[0]\npostal_codes_df.columns = ['PostalCode', 'Borough', 'Neighborhood']\n\npostal_codes_df.head()"
        }, 
        {
            "source": "Drop entries with \"Not assigned\" Borough", 
            "cell_type": "markdown", 
            "metadata": {}
        }, 
        {
            "execution_count": 6, 
            "cell_type": "code", 
            "metadata": {}, 
            "outputs": [
                {
                    "execution_count": 6, 
                    "metadata": {}, 
                    "data": {
                        "text/html": "<div>\n<style scoped>\n    .dataframe tbody tr th:only-of-type {\n        vertical-align: middle;\n    }\n\n    .dataframe tbody tr th {\n        vertical-align: top;\n    }\n\n    .dataframe thead th {\n        text-align: right;\n    }\n</style>\n<table border=\"1\" class=\"dataframe\">\n  <thead>\n    <tr style=\"text-align: right;\">\n      <th></th>\n      <th>PostalCode</th>\n      <th>Borough</th>\n      <th>Neighborhood</th>\n    </tr>\n  </thead>\n  <tbody>\n    <tr>\n      <th>2</th>\n      <td>M3A</td>\n      <td>North York</td>\n      <td>Parkwoods</td>\n    </tr>\n    <tr>\n      <th>3</th>\n      <td>M4A</td>\n      <td>North York</td>\n      <td>Victoria Village</td>\n    </tr>\n    <tr>\n      <th>4</th>\n      <td>M5A</td>\n      <td>Downtown Toronto</td>\n      <td>Harbourfront</td>\n    </tr>\n    <tr>\n      <th>5</th>\n      <td>M5A</td>\n      <td>Downtown Toronto</td>\n      <td>Regent Park</td>\n    </tr>\n    <tr>\n      <th>6</th>\n      <td>M6A</td>\n      <td>North York</td>\n      <td>Lawrence Heights</td>\n    </tr>\n  </tbody>\n</table>\n</div>", 
                        "text/plain": "  PostalCode           Borough      Neighborhood\n2  M3A        North York        Parkwoods       \n3  M4A        North York        Victoria Village\n4  M5A        Downtown Toronto  Harbourfront    \n5  M5A        Downtown Toronto  Regent Park     \n6  M6A        North York        Lawrence Heights"
                    }, 
                    "output_type": "execute_result"
                }
            ], 
            "source": "postal_codes_df = postal_codes_df[postal_codes_df.Borough != 'Not assigned']\n\npostal_codes_df.head()"
        }, 
        {
            "source": "Aggregate function to be used with groupby()", 
            "cell_type": "markdown", 
            "metadata": {}
        }, 
        {
            "execution_count": 7, 
            "cell_type": "code", 
            "metadata": {}, 
            "outputs": [], 
            "source": "from functools import reduce\n\n# this functions forms a comma+space separated string of unique sorted elements of list `series`\ndef aggreg(series):\n    return reduce(lambda x, y: x + ', ' + y, sorted(list(set(series))))"
        }, 
        {
            "source": "Aggregate neighborhoods with the same PostalCode to comma+space separated strings", 
            "cell_type": "markdown", 
            "metadata": {}
        }, 
        {
            "execution_count": 8, 
            "cell_type": "code", 
            "metadata": {}, 
            "outputs": [
                {
                    "execution_count": 8, 
                    "metadata": {}, 
                    "data": {
                        "text/html": "<div>\n<style scoped>\n    .dataframe tbody tr th:only-of-type {\n        vertical-align: middle;\n    }\n\n    .dataframe tbody tr th {\n        vertical-align: top;\n    }\n\n    .dataframe thead th {\n        text-align: right;\n    }\n</style>\n<table border=\"1\" class=\"dataframe\">\n  <thead>\n    <tr style=\"text-align: right;\">\n      <th></th>\n      <th>PostalCode</th>\n      <th>Borough</th>\n      <th>Neighborhood</th>\n    </tr>\n  </thead>\n  <tbody>\n    <tr>\n      <th>0</th>\n      <td>M1B</td>\n      <td>Scarborough</td>\n      <td>Malvern, Rouge</td>\n    </tr>\n    <tr>\n      <th>1</th>\n      <td>M1C</td>\n      <td>Scarborough</td>\n      <td>Highland Creek, Port Union, Rouge Hill</td>\n    </tr>\n    <tr>\n      <th>2</th>\n      <td>M1E</td>\n      <td>Scarborough</td>\n      <td>Guildwood, Morningside, West Hill</td>\n    </tr>\n    <tr>\n      <th>3</th>\n      <td>M1G</td>\n      <td>Scarborough</td>\n      <td>Woburn</td>\n    </tr>\n    <tr>\n      <th>4</th>\n      <td>M1H</td>\n      <td>Scarborough</td>\n      <td>Cedarbrae</td>\n    </tr>\n    <tr>\n      <th>5</th>\n      <td>M1J</td>\n      <td>Scarborough</td>\n      <td>Scarborough Village</td>\n    </tr>\n    <tr>\n      <th>6</th>\n      <td>M1K</td>\n      <td>Scarborough</td>\n      <td>East Birchmount Park, Ionview, Kennedy Park</td>\n    </tr>\n    <tr>\n      <th>7</th>\n      <td>M1L</td>\n      <td>Scarborough</td>\n      <td>Clairlea, Golden Mile, Oakridge</td>\n    </tr>\n    <tr>\n      <th>8</th>\n      <td>M1M</td>\n      <td>Scarborough</td>\n      <td>Cliffcrest, Cliffside, Scarborough Village West</td>\n    </tr>\n    <tr>\n      <th>9</th>\n      <td>M1N</td>\n      <td>Scarborough</td>\n      <td>Birch Cliff, Cliffside West</td>\n    </tr>\n    <tr>\n      <th>10</th>\n      <td>M1P</td>\n      <td>Scarborough</td>\n      <td>Dorset Park, Scarborough Town Centre, Wexford Heights</td>\n    </tr>\n    <tr>\n      <th>11</th>\n      <td>M1R</td>\n      <td>Scarborough</td>\n      <td>Maryvale, Wexford</td>\n    </tr>\n  </tbody>\n</table>\n</div>", 
                        "text/plain": "   PostalCode      Borough  \\\n0   M1B        Scarborough   \n1   M1C        Scarborough   \n2   M1E        Scarborough   \n3   M1G        Scarborough   \n4   M1H        Scarborough   \n5   M1J        Scarborough   \n6   M1K        Scarborough   \n7   M1L        Scarborough   \n8   M1M        Scarborough   \n9   M1N        Scarborough   \n10  M1P        Scarborough   \n11  M1R        Scarborough   \n\n                                             Neighborhood  \n0   Malvern, Rouge                                         \n1   Highland Creek, Port Union, Rouge Hill                 \n2   Guildwood, Morningside, West Hill                      \n3   Woburn                                                 \n4   Cedarbrae                                              \n5   Scarborough Village                                    \n6   East Birchmount Park, Ionview, Kennedy Park            \n7   Clairlea, Golden Mile, Oakridge                        \n8   Cliffcrest, Cliffside, Scarborough Village West        \n9   Birch Cliff, Cliffside West                            \n10  Dorset Park, Scarborough Town Centre, Wexford Heights  \n11  Maryvale, Wexford                                      "
                    }, 
                    "output_type": "execute_result"
                }
            ], 
            "source": "postal_codes_df = postal_codes_df.groupby('PostalCode').agg(aggreg).reset_index()\n\npostal_codes_df.head(12)"
        }, 
        {
            "source": "Do we have 'Not assigned' Neighborhoods?", 
            "cell_type": "markdown", 
            "metadata": {}
        }, 
        {
            "execution_count": 9, 
            "cell_type": "code", 
            "metadata": {}, 
            "outputs": [
                {
                    "execution_count": 9, 
                    "metadata": {}, 
                    "data": {
                        "text/html": "<div>\n<style scoped>\n    .dataframe tbody tr th:only-of-type {\n        vertical-align: middle;\n    }\n\n    .dataframe tbody tr th {\n        vertical-align: top;\n    }\n\n    .dataframe thead th {\n        text-align: right;\n    }\n</style>\n<table border=\"1\" class=\"dataframe\">\n  <thead>\n    <tr style=\"text-align: right;\">\n      <th></th>\n      <th>PostalCode</th>\n      <th>Borough</th>\n      <th>Neighborhood</th>\n    </tr>\n  </thead>\n  <tbody>\n    <tr>\n      <th>85</th>\n      <td>M7A</td>\n      <td>Queen's Park</td>\n      <td>Not assigned</td>\n    </tr>\n  </tbody>\n</table>\n</div>", 
                        "text/plain": "   PostalCode       Borough  Neighborhood\n85  M7A        Queen's Park  Not assigned"
                    }, 
                    "output_type": "execute_result"
                }
            ], 
            "source": "not_assigned_neighborhoods = postal_codes_df.Neighborhood == 'Not assigned'\n#postal_codes_df[postal_codes_df.Neighborhood == 'Not assigned'].head()\npostal_codes_df[not_assigned_neighborhoods]"
        }, 
        {
            "source": "Let's rename 'Not assigned' Neighborhood to their respective Boroughs", 
            "cell_type": "markdown", 
            "metadata": {}
        }, 
        {
            "execution_count": 10, 
            "cell_type": "code", 
            "metadata": {}, 
            "outputs": [
                {
                    "execution_count": 10, 
                    "metadata": {}, 
                    "data": {
                        "text/html": "<div>\n<style scoped>\n    .dataframe tbody tr th:only-of-type {\n        vertical-align: middle;\n    }\n\n    .dataframe tbody tr th {\n        vertical-align: top;\n    }\n\n    .dataframe thead th {\n        text-align: right;\n    }\n</style>\n<table border=\"1\" class=\"dataframe\">\n  <thead>\n    <tr style=\"text-align: right;\">\n      <th></th>\n      <th>PostalCode</th>\n      <th>Borough</th>\n      <th>Neighborhood</th>\n    </tr>\n  </thead>\n  <tbody>\n    <tr>\n      <th>85</th>\n      <td>M7A</td>\n      <td>Queen's Park</td>\n      <td>Queen's Park</td>\n    </tr>\n  </tbody>\n</table>\n</div>", 
                        "text/plain": "   PostalCode       Borough  Neighborhood\n85  M7A        Queen's Park  Queen's Park"
                    }, 
                    "output_type": "execute_result"
                }
            ], 
            "source": "postal_codes_df.Neighborhood = list(map(lambda x: x[1] if x[1] != 'Not assigned' else x[0], zip(postal_codes_df.Borough, postal_codes_df.Neighborhood)))\n\n# test\npostal_codes_df.loc[not_assigned_neighborhoods]"
        }, 
        {
            "source": "`postal_codes_df` size", 
            "cell_type": "markdown", 
            "metadata": {}
        }, 
        {
            "execution_count": 11, 
            "cell_type": "code", 
            "metadata": {}, 
            "outputs": [
                {
                    "execution_count": 11, 
                    "metadata": {}, 
                    "data": {
                        "text/plain": "(103, 3)"
                    }, 
                    "output_type": "execute_result"
                }
            ], 
            "source": "postal_codes_df.shape"
        }
    ], 
    "metadata": {
        "kernelspec": {
            "display_name": "Python 3.5", 
            "name": "python3", 
            "language": "python"
        }, 
        "language_info": {
            "mimetype": "text/x-python", 
            "nbconvert_exporter": "python", 
            "version": "3.5.5", 
            "name": "python", 
            "file_extension": ".py", 
            "pygments_lexer": "ipython3", 
            "codemirror_mode": {
                "version": 3, 
                "name": "ipython"
            }
        }
    }, 
    "nbformat": 4
}